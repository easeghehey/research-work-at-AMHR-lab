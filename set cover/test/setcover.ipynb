{
 "cells": [
  {
   "cell_type": "code",
   "execution_count": 22,
   "metadata": {},
   "outputs": [],
   "source": [
    "import random\n",
    "from collections import defaultdict, Counter\n",
    "import heapq"
   ]
  },
  {
   "cell_type": "markdown",
   "metadata": {},
   "source": [
    "Brute force algorithm:"
   ]
  },
  {
   "cell_type": "code",
   "execution_count": null,
   "metadata": {},
   "outputs": [],
   "source": [
    "universe = set([1,2,3,4,5,6,7,8,9,10,11,12,13,14,15,16,21,22,23,43]) # universal set\n",
    "subsets = [set([1]), set([1,2,3]), set([43,2,1]), set([4,5]), set([2,22]), set([22]), set([6,8,10,12,15]), set([6,7]), set([7,1]), set([23,21,16]), set([10,9,2]), set([21,22]), set([7,13]), set([11]), set([11,13,15]), set([14,21,22]), set([16,43])]\n",
    "# print(random.randrange(1,10)) \n",
    "weights = defaultdict(list)\n",
    "\n",
    "for subs in subsets:\n",
    "    randomWeight = random.randrange(1,20) # assigning them random weights in the range 1 - 20\n",
    "    weights[randomWeight].append(subs) # map with weigths and their respective subsets\n",
    "\n",
    "print(len(subsets))\n",
    "print(weights)"
   ]
  },
  {
   "cell_type": "code",
   "execution_count": 3,
   "metadata": {},
   "outputs": [],
   "source": [
    "# helper functions\n",
    "\n",
    "def findWeight(subset, weightsMap): # given a subset, returns the weight associated with it\n",
    "    for k, v in weightsMap.items():\n",
    "        for values in v:\n",
    "            if values == subset:\n",
    "                return k\n",
    "\n",
    "def removeSeen(setToRemove, curSet): # used for effective comparison when finding combinations that cover the universal set\n",
    "    for num in list(curSet):\n",
    "        setToRemove.remove(num)\n",
    "    return setToRemove\n",
    "\n",
    "''' \n",
    "def addSeen(toadd, subset): \n",
    "    for num in list(subset):\n",
    "        toadd.add(num)\n",
    "    return toadd\n",
    "'''\n",
    "\n",
    "\n",
    "def seen(set, universal):\n",
    "    count = 0\n",
    "    for num in list(set):\n",
    "        if num in universal:\n",
    "            count += 1\n",
    "    return count\n",
    "    \n",
    "def setcover(universe, subsets, weights, k):\n",
    "    \n",
    "    n = len(universe) - k # instad of finding the combination of sets that best match our U-set, find all that cover at least n - k\n",
    "    costs = [] # min heap\n",
    "    heapq.heapify(costs)\n",
    "\n",
    "    for i in range(len(subsets)): # finding combinations for each set\n",
    "        \n",
    "        unicopy = universe.copy() # useful for avoiding redundant work\n",
    "        countcovered = len(subsets[i]) # count of how many items we covered so far\n",
    "        unicopy = removeSeen(unicopy, subsets[i]) # quickly removing those items from the unicopy\n",
    "        totalWeight = findWeight(subsets[i], weights) # totalweight will start at how much weight the current subset holds\n",
    "        indexes = [i] # we consider the index of the subset we're in \n",
    "\n",
    "        for j in range(i + 1, len(subsets)): # finding its match with every other combination\n",
    "            cur_count = seen(subsets[j], unicopy) # the count of how many matches we found\n",
    "            if cur_count > 0: # this means we did find at least one match\n",
    "\n",
    "                countcovered += cur_count # we cover those things found\n",
    "                totalWeight += findWeight(subsets[j], weights) # add their respective weights\n",
    "\n",
    "                for k in list(subsets[j]): # removing the covered items from the unicopy since we already seen them\n",
    "                    if k in unicopy:\n",
    "                        unicopy.remove(k)\n",
    "\n",
    "                indexes.append(j) # keeping track of all the indexes that build this collection\n",
    "\n",
    "        if countcovered >= n or not unicopy: # if we found a collection of subsets that do cover our universe\n",
    "            heapq.heappush(costs, (totalWeight, indexes)) # pushing them to the heap\n",
    "\n",
    "    vals = []\n",
    "    while costs:\n",
    "        weight, sets = heapq.heappop(costs)\n",
    "        vals.append([weight, sets])\n",
    "    return vals\n"
   ]
  },
  {
   "cell_type": "markdown",
   "metadata": {},
   "source": [
    "Pass (total weight, uniqueness, collection of sets)"
   ]
  },
  {
   "cell_type": "code",
   "execution_count": null,
   "metadata": {},
   "outputs": [],
   "source": [
    "# findWeight(set([1,2,4]),weights)\n",
    "values = setcover(universe, subsets, weights,3)\n",
    "def checkSet(sets):\n",
    "    res = []\n",
    "    for i in range(len(sets)):\n",
    "        res.append(subsets[i])\n",
    "    return res\n",
    "\n",
    "# def howmanycovered(sets):\n",
    "#     count = 0\n",
    "#     seen = set()\n",
    "#     for i in range(len(sets)):\n",
    "#         if sets[i] in universe and not in seen:\n",
    "#             count += 1\n",
    "#         seen.add(sets[i]) \n",
    "\n",
    "for weight, sets in values:\n",
    "    print(weight, checkSet(sets))\n",
    "\n",
    "# prblms:\n",
    "# duplicate colllection of sets\n",
    "\n",
    "# 15 / 17 + dups\n",
    "# 15 / 17  + dups (duplicate from #1 but different weight)\n",
    "# dup from above + same weight\n",
    "\n",
    "dups = [1, 1, 2, 3, 1, 2, 43, 4, 5, 2, 22, 22, 6, 8, 10, 12, 15, 6, 7, 1, 7, 16, 21, 23, 9, 10, 2, 21, 22]\n",
    "for k, v in Counter(dups).items():\n",
    "    print(f'{k}: {v}')\n"
   ]
  },
  {
   "cell_type": "markdown",
   "metadata": {},
   "source": [
    "Text-based"
   ]
  },
  {
   "cell_type": "code",
   "execution_count": 21,
   "metadata": {},
   "outputs": [],
   "source": [
    "def getSubsets(filename):\n",
    "    data = open(filename,\"r\")\n",
    "\n",
    "    subsets = []\n",
    "    costs = []\n",
    "\n",
    "    for line in data.read().splitlines():\n",
    "        line = line.lower()\n",
    "        subsets.append(set(line.split(' ')))\n",
    "        costs.append(random.randrange(1,300)) # temporary\n",
    "        \n",
    "    return subsets, costs\n"
   ]
  },
  {
   "cell_type": "code",
   "execution_count": null,
   "metadata": {},
   "outputs": [],
   "source": [
    "getSubsets('dataset1.txt') # testing function"
   ]
  },
  {
   "cell_type": "markdown",
   "metadata": {},
   "source": [
    "testing intersection function"
   ]
  },
  {
   "cell_type": "code",
   "execution_count": 17,
   "metadata": {},
   "outputs": [
    {
     "data": {
      "text/plain": [
       "{'no', 'po'}"
      ]
     },
     "execution_count": 17,
     "metadata": {},
     "output_type": "execute_result"
    }
   ],
   "source": [
    "test1 = set(['hi','no'])\n",
    "test2 = set(['oi','no','yes'])\n",
    "\n",
    "mainSet = set(['po'])\n",
    "mainSet |= test1.intersection(test2)\n",
    "\n",
    "mainSet"
   ]
  },
  {
   "cell_type": "markdown",
   "metadata": {},
   "source": [
    "Testing logic:"
   ]
  },
  {
   "cell_type": "code",
   "execution_count": 25,
   "metadata": {},
   "outputs": [
    {
     "name": "stdout",
     "output_type": "stream",
     "text": [
      "[{'lame', 'emanuel', 'very', 'is'}, {'nuttall', 'ryan', 'name', 'hi', 'is', 'my'}, {'music', 'i', 'love'}, {'life', 'love', 'this', 'my'}, {'at', 'the', 'working', 'moment'}, {'this', 'a', 'random', 'paragraph', 'is'}] \n",
      " [193, 5, 77, 97, 45, 230]\n"
     ]
    },
    {
     "data": {
      "text/plain": [
       "({'nuttall', 'random'},\n",
       " 235,\n",
       " [{'hi', 'is', 'my', 'name', 'nuttall', 'ryan'},\n",
       "  {'a', 'is', 'paragraph', 'random', 'this'}])"
      ]
     },
     "execution_count": 25,
     "metadata": {},
     "output_type": "execute_result"
    }
   ],
   "source": [
    "sub, c = getSubsets('dataset1.txt')\n",
    "# c = [10,191,101,4,212,121]\n",
    "# c = [100,210,13,21]\n",
    "\n",
    "print(sub,'\\n',c)\n",
    "\n",
    "covered = set()\n",
    "pre_covered = set()\n",
    "\n",
    "coverage = []\n",
    "totalCost = 0\n",
    "\n",
    "prompt = set('nuttall random'.split(' '))\n",
    "\n",
    "# print('\\n',prompt,'\\n')\n",
    "# print(prompt)\n",
    "# for i in range(len(sub)):\n",
    "#     print(len(sub[i] - set())/c[i])\n",
    "\n",
    "subcopy = sub.copy()\n",
    "costcopy = c.copy()\n",
    "\n",
    "while covered != prompt:\n",
    "\n",
    "    curr_sub = max(subcopy, key=lambda s: len(s - covered)/c[subcopy.index(s)])\n",
    "    removeIndex = subcopy.index(curr_sub)\n",
    "\n",
    "    covered |= curr_sub.intersection(prompt)\n",
    "\n",
    "    if covered != pre_covered:\n",
    "        coverage.append(curr_sub)\n",
    "        totalCost += costcopy[removeIndex]\n",
    "    \n",
    "    subcopy.pop(removeIndex)\n",
    "    costcopy.pop(removeIndex)\n",
    "\n",
    "    pre_covered = covered.copy()\n",
    "\n",
    "\n",
    "covered, totalCost, coverage\n"
   ]
  }
 ],
 "metadata": {
  "kernelspec": {
   "display_name": "Python 3.9.7 64-bit",
   "language": "python",
   "name": "python3"
  },
  "language_info": {
   "codemirror_mode": {
    "name": "ipython",
    "version": 3
   },
   "file_extension": ".py",
   "mimetype": "text/x-python",
   "name": "python",
   "nbconvert_exporter": "python",
   "pygments_lexer": "ipython3",
   "version": "3.9.7"
  },
  "orig_nbformat": 4,
  "vscode": {
   "interpreter": {
    "hash": "aee8b7b246df8f9039afb4144a1f6fd8d2ca17a180786b69acc140d282b71a49"
   }
  }
 },
 "nbformat": 4,
 "nbformat_minor": 2
}
