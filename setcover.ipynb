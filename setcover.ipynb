{
 "cells": [
  {
   "cell_type": "code",
   "execution_count": 1,
   "metadata": {},
   "outputs": [],
   "source": [
    "import random\n",
    "from collections import defaultdict, Counter\n",
    "import heapq"
   ]
  },
  {
   "cell_type": "code",
   "execution_count": 4,
   "metadata": {},
   "outputs": [
    {
     "name": "stdout",
     "output_type": "stream",
     "text": [
      "17\n",
      "defaultdict(<class 'list'>, {12: [{1}, {21, 22}], 11: [{1, 2, 3}], 15: [{1, 2, 43}], 9: [{4, 5}, {22}, {11, 13, 15}], 3: [{2, 22}, {9, 10, 2}], 14: [{6, 8, 10, 12, 15}], 4: [{6, 7}], 18: [{1, 7}, {13, 7}], 5: [{16, 21, 23}], 17: [{11}], 1: [{21, 14, 22}], 13: [{16, 43}]})\n"
     ]
    }
   ],
   "source": [
    "universe = set([1,2,3,4,5,6,7,8,9,10,11,12,13,14,15,16,21,22,23,43]) # universal set\n",
    "subsets = [set([1]), set([1,2,3]), set([43,2,1]), set([4,5]), set([2,22]), set([22]), set([6,8,10,12,15]), set([6,7]), set([7,1]), set([23,21,16]), set([10,9,2]), set([21,22]), set([7,13]), set([11]), set([11,13,15]), set([14,21,22]), set([16,43])]\n",
    "# print(random.randrange(1,10)) \n",
    "weights = defaultdict(list)\n",
    "\n",
    "for subs in subsets:\n",
    "    randomWeight = random.randrange(1,20) # assigning them random weights in the range 1 - 20\n",
    "    weights[randomWeight].append(subs) # map with weigths and their respective subsets\n",
    "\n",
    "print(len(subsets))\n",
    "print(weights)"
   ]
  },
  {
   "cell_type": "code",
   "execution_count": 3,
   "metadata": {},
   "outputs": [],
   "source": [
    "# helper functions\n",
    "\n",
    "def findWeight(subset, weightsMap): # given a subset, returns the weight associated with it\n",
    "    for k, v in weightsMap.items():\n",
    "        for values in v:\n",
    "            if values == subset:\n",
    "                return k\n",
    "\n",
    "def removeSeen(setToRemove, curSet): # used for effective comparison when finding combinations that cover the universal set\n",
    "    for num in list(curSet):\n",
    "        setToRemove.remove(num)\n",
    "    return setToRemove\n",
    "\n",
    "''' \n",
    "def addSeen(toadd, subset): \n",
    "    for num in list(subset):\n",
    "        toadd.add(num)\n",
    "    return toadd\n",
    "'''\n",
    "\n",
    "\n",
    "def seen(set, universal):\n",
    "    count = 0\n",
    "    for num in list(set):\n",
    "        if num in universal:\n",
    "            count += 1\n",
    "    return count\n",
    "    \n",
    "def setcover(universe, subsets, weights, k):\n",
    "    \n",
    "    n = len(universe) - k # instad of finding the combination of sets that best match our U-set, find all that cover at least n - k\n",
    "    costs = [] # min heap\n",
    "    heapq.heapify(costs)\n",
    "\n",
    "    for i in range(len(subsets)): # finding combinations for each set\n",
    "        \n",
    "        unicopy = universe.copy() # useful for avoiding redundant work\n",
    "        countcovered = len(subsets[i]) # count of how many items we covered so far\n",
    "        unicopy = removeSeen(unicopy, subsets[i]) # quickly removing those items from the unicopy\n",
    "        totalWeight = findWeight(subsets[i], weights) # totalweight will start at how much weight the current subset holds\n",
    "        indexes = [i] # we consider the index of the subset we're in \n",
    "\n",
    "        for j in range(i + 1, len(subsets)): # finding its match with every other combination\n",
    "            cur_count = seen(subsets[j], unicopy) # the count of how many matches we found\n",
    "            if cur_count > 0: # this means we did find at least one match\n",
    "\n",
    "                countcovered += cur_count # we cover those things found\n",
    "                totalWeight += findWeight(subsets[j], weights) # add their respective weights\n",
    "\n",
    "                for k in list(subsets[j]): # removing the covered items from the unicopy since we already seen them\n",
    "                    if k in unicopy:\n",
    "                        unicopy.remove(k)\n",
    "\n",
    "                indexes.append(j) # keeping track of all the indexes that build this collection\n",
    "\n",
    "        if countcovered >= n or not unicopy: # if we found a collection of subsets that do cover our universe\n",
    "            heapq.heappush(costs, (totalWeight, indexes)) # pushing them to the heap\n",
    "\n",
    "    vals = []\n",
    "    while costs:\n",
    "        weight, sets = heapq.heappop(costs)\n",
    "        vals.append([weight, sets])\n",
    "    return vals\n"
   ]
  },
  {
   "cell_type": "markdown",
   "metadata": {},
   "source": [
    "Pass (total weight, uniqueness, collection of sets)"
   ]
  },
  {
   "cell_type": "code",
   "execution_count": null,
   "metadata": {},
   "outputs": [],
   "source": [
    "# findWeight(set([1,2,4]),weights)\n",
    "values = setcover(universe, subsets, weights,3)\n",
    "def checkSet(sets):\n",
    "    res = []\n",
    "    for i in range(len(sets)):\n",
    "        res.append(subsets[i])\n",
    "    return res\n",
    "\n",
    "# def howmanycovered(sets):\n",
    "#     count = 0\n",
    "#     seen = set()\n",
    "#     for i in range(len(sets)):\n",
    "#         if sets[i] in universe and not in seen:\n",
    "#             count += 1\n",
    "#         seen.add(sets[i]) \n",
    "\n",
    "for weight, sets in values:\n",
    "    print(weight, checkSet(sets))\n",
    "\n",
    "# prblms:\n",
    "# duplicate colllection of sets\n",
    "\n",
    "# 15 / 17 + dups\n",
    "# 15 / 17  + dups (duplicate from #1 but different weight)\n",
    "# dup from above + same weight\n",
    "\n",
    "dups = [1, 1, 2, 3, 1, 2, 43, 4, 5, 2, 22, 22, 6, 8, 10, 12, 15, 6, 7, 1, 7, 16, 21, 23, 9, 10, 2, 21, 22]\n",
    "for k, v in Counter(dups).items():\n",
    "    print(f'{k}: {v}')\n"
   ]
  },
  {
   "cell_type": "markdown",
   "metadata": {},
   "source": [
    "Desired from:\n",
    "1, 1,2,3, 43,2,1, 4,5, 2,22, 22, 6,8,10,12,15, 6,7, 7,1, 23,21,16, 10,9,2, 21,22, 7,13, 11, 11,13,15, 14,21,22, 16,43"
   ]
  },
  {
   "cell_type": "markdown",
   "metadata": {},
   "source": [
    "Optimized:"
   ]
  },
  {
   "cell_type": "code",
   "execution_count": null,
   "metadata": {},
   "outputs": [],
   "source": [
    "import time\n",
    " \n",
    "def main(a,b,c,x=time.time()):\n",
    "    m = a\n",
    "    universe = set(range(1, m+1))\n",
    "    # print(universe)\n",
    "    sub = b  \n",
    "    \n",
    "    subsets = [set(x) for x in sub]\n",
    "    costs =  c \n",
    "    cover = set_cover(universe, subsets,costs)\n",
    "    print('covering sets = ',cover[0],'\\n',\n",
    "          'cost = ',cover[1],'$')\n",
    "    print('time: ',time.time()-x)\n",
    "     \n",
    "m1 = 6 # universe\n",
    "S1 = [[1,3],[6,1],[3],[2],[1,2,5],[3,5],[4],[5],[1,3],[2,4,5],[1,2],[2,3]] # subsets\n",
    "P1 = [100,200,100,40,900,12,5,4,13,12,8,9] # costs - index based\n",
    "\n",
    "# m2 = 15\n",
    "# S2 = [[2, 7, 8, 10, 12, 13], [1, 3, 5, 8, 10, 11, 12, 15], [1, 2, 3, 4, 5, 6, 7, 12, 13], [2, 6, 7, 11, 12, 13], [9, 10, 12, 13], [1, 3, 7, 9, 11, 12, 13], [1, 3, 5, 6, 8, 9, 10, 11, 12, 13], [1, 3, 4, 5, 6, 7, 12, 14, 15], [1, 2, 3, 6, 11, 12], [1, 2, 4, 5, 7, 8], [5, 9, 10, 11, 15], [3, 5, 6, 7, 8, 9, 12, 13, 14], [1, 3, 4, 5, 6, 7, 9, 11, 13, 14, 15], [1, 3, 5, 6, 8, 12, 14], [2, 4, 7, 9, 10, 12, 14], [1, 3, 5, 6, 11, 15], [2, 3, 4, 5, 6, 8, 10, 11, 12, 13, 14, 15], [1, 2, 4, 6, 7, 11, 13, 14, 15], [1, 2, 8, 12, 13, 14], [1, 2, 6, 7, 8, 13], [1, 2, 3, 5, 7, 8, 10, 12, 14, 15], [4, 5, 7, 12, 15], [1, 2, 3, 5, 11, 14], [1, 6, 8, 11, 13], [1, 6, 7, 8, 9, 10, 13], [1, 2, 3, 4, 5, 9, 11, 15], [2, 3, 4, 7, 9, 11, 12], [1, 3, 4, 5, 8, 10, 11, 12, 13], [2, 8, 9, 10], [6, 11, 13], [2, 5, 6, 8, 9, 11, 12, 13, 15], [2, 4, 6, 7, 8, 9, 10, 11, 13, 15], [1, 2, 3, 4, 5, 7, 8, 10, 11], [1, 2, 6, 9, 11, 13, 14, 15], [1, 4, 9, 10, 11, 13, 15], [1, 2, 3, 4, 6, 8, 12, 14, 15], [4, 5, 7, 8, 10, 13, 14], [2, 4, 8, 9, 11, 14], [2, 3, 4, 5, 6, 7, 10, 11, 14], [1, 2, 4, 5, 6, 7, 9, 11, 13, 14, 15], [1, 2, 6, 7, 9, 10, 12, 15], [1, 3, 6, 9, 10, 15], [2, 3, 5, 7, 8, 9, 11], [2, 3, 4, 5, 8, 10, 11, 12, 15], [1, 3, 4, 5, 6, 7, 9, 10, 12, 15]]\n",
    "# P2 = [16, 7, 16, 39, 29, 35, 19, 27, 27, 33, 38, 8, 41, 16, 12, 7, 41, 6, 34, 48, 23, 16, 31, 18, 35, 31, 41, 21, 50, 21, 12, 37, 35, 44, 48, 18, 14, 26, 22, 13, 29, 34, 28, 45, 50]\n",
    "# m3 = 5\n",
    "# S3 = [[1], [1, 2, 3, 4, 5], [2, 3], [2, 3, 4, 5], [1, 3, 4], [5], [1, 2, 4], [1, 3, 4, 5], [3, 5], [4, 5], [3], [2, 5], [4], [1, 5], [2], [1, 2, 4], [1, 3], [1, 3, 5], [2, 4, 5], [2], [1, 2, 5]]\n",
    "# P3 = [44, 44, 39, 24, 5, 30, 26, 42, 28, 12, 6, 45, 37, 33, 5, 42, 26, 6, 38, 11, 28]\n",
    "# m4 = 40\n",
    "# S4 = [[1, 3, 4, 6, 7, 9, 10, 15, 16, 18, 26, 31, 32, 35, 36, 38, 39, 40], [1, 2, 3, 4, 5, 7, 9, 11, 13, 15, 17, 18, 19, 20, 23, 24, 25, 27, 31, 32, 37, 39, 40], [4, 7, 8, 10, 11, 14, 16, 17, 18, 20, 23, 24, 27, 28, 29, 34, 36, 37, 39, 40], [2, 3, 4, 7, 9, 11, 17, 20, 22, 25, 26, 27, 28, 32, 34, 35, 36, 37, 39, 40], [1, 2, 4, 6, 7, 10, 12, 13, 22, 23, 24, 26, 28, 30, 32, 33, 35, 36, 39], [1, 3, 4, 5, 6, 8, 9, 10, 12, 13, 16, 24, 25, 30, 34, 35, 36, 37, 38, 39], [2, 3, 5, 10, 11, 12, 14, 18, 20, 22, 24, 25, 27, 28, 30, 31, 33, 34, 40], [1, 3, 11, 12, 18, 19, 21, 22, 24, 25, 26, 30, 33, 35], [1, 2, 7, 9, 10, 11, 14, 16, 18, 20, 22, 25, 28, 33, 35, 38], [3, 4, 9, 10, 14, 15, 17, 18, 19, 23, 24, 26, 28, 29, 30, 32, 34, 35, 38, 39, 40], [1, 2, 3, 4, 5, 6, 7, 9, 10, 13, 14, 15, 16, 19, 20, 22, 23, 29, 30, 31, 36, 38, 39], [2, 4, 5, 7, 13, 14, 15, 17, 20, 23, 24, 25, 27, 28, 29, 30, 34, 35], [1, 2, 4, 8, 9, 11, 14, 15, 16, 17, 18, 19, 20, 21, 23, 24, 26, 27, 31, 32, 33, 34, 35, 36, 37, 39, 40], [1, 4, 5, 6, 8, 10, 14, 17, 20, 21, 23, 24, 25, 29, 30, 40], [3, 5, 6, 10, 12, 14, 16, 17, 18, 19, 20, 22, 23, 24, 26, 28, 29, 30, 31, 32, 33, 34, 37, 39], [2, 3, 5, 6, 7, 9, 14, 15, 16, 17, 20, 21, 23, 27, 28, 29, 31, 32, 34, 35, 39, 40], [2, 5, 7, 10, 11, 13, 14, 18, 20, 22, 23, 29, 32, 33, 34, 35, 38, 39], [1, 3, 6, 7, 8, 9, 10, 12, 13, 24, 29, 30, 33, 34, 35, 36, 37, 39, 40], [1, 2, 5, 6, 8, 9, 10, 11, 12, 13, 14, 16, 20, 21, 26, 29, 30, 32, 33, 35, 36, 38, 39, 40], [3, 4, 7, 8, 11, 14, 16, 17, 19, 20, 21, 22, 23, 24, 25, 26, 29, 30, 31, 33, 34, 36, 38, 39], [2, 3, 4, 6, 7, 9, 11, 13, 14, 15, 16, 19, 21, 24, 25, 26, 27, 28, 29, 30, 31, 33, 36, 39], [1, 2, 3, 6, 8, 10, 11, 13, 15, 16, 17, 19, 20, 21, 22, 25, 26, 34, 35, 36, 39, 40], [1, 2, 7, 12, 15, 17, 21, 24, 25, 27, 28, 30, 35, 37, 39, 40]]\n",
    "# P4 = [59, 68, 56, 50, 75, 95, 71, 66, 30, 28, 42, 50, 68, 34, 29, 52, 70, 85, 27, 40, 76, 82, 38]\n",
    "# m5 = 30\n",
    "# n5 = 23\n",
    "# S5 = [[2, 3, 4, 8, 9, 10, 11, 12, 15, 16, 18, 19, 22, 23, 24, 26, 27, 28, 29], [1, 2, 4, 5, 7, 8, 10, 11, 13, 16, 17, 19, 20, 21, 22, 23, 25, 27, 30], [1, 3, 9, 10, 16, 17, 18, 23, 24, 25, 26, 29, 30], [2, 4, 5, 6, 7, 10, 11, 12, 13, 14, 17, 20, 21, 22, 26, 27, 29, 30], [1, 6, 7, 11, 14, 17, 18, 23, 25, 26, 28, 29], [3, 5, 6, 7, 9, 10, 12, 13, 15, 16, 17, 18, 19, 21, 22, 24, 25, 26, 29], [2, 5, 6, 7, 8, 9, 10, 13, 17, 19, 20, 21, 23, 24, 25, 27, 28, 29, 30], [1, 5, 6, 8, 10, 19, 21, 24], [1, 3, 7, 8, 9, 10, 15, 19, 25, 26, 27, 30], [4, 5, 10, 11, 12, 13, 14, 16, 18, 20, 21, 22, 27, 28, 29], [1, 6, 7, 9, 17, 23, 26, 29, 30], [3, 4, 7, 8, 12, 13, 14, 15, 19, 21, 22, 24, 25, 27, 28, 29, 30], [1, 5, 6, 7, 8, 10, 15, 19, 21, 22, 27, 28, 29, 30], [1, 2, 4, 5, 6, 7, 8, 9, 11, 13, 14, 17, 19, 20, 23, 25, 26, 28, 30], [2, 3, 4, 9, 12, 15, 17, 20, 23, 26, 27, 28, 29], [4, 7, 8, 9, 11, 12, 13, 14, 15, 16, 19, 20, 25, 26, 27, 28, 29, 30], [1, 3, 5, 7, 8, 9, 18, 19, 20, 21, 22, 23, 26, 28, 29], [1, 3, 6, 7, 8, 10, 12, 13, 14, 16, 21, 23, 24, 25, 26, 27], [3, 5, 8, 9, 12, 13, 15, 18, 20, 21, 23, 24, 29], [1, 3, 4, 5, 8, 9, 10, 14, 15, 16, 18, 19, 20, 21, 22, 24, 26, 27], [2, 5, 8, 9, 12, 13, 14, 15, 17, 19, 20, 21, 24, 27, 28, 30], [2, 4, 8, 9, 12, 15, 16, 23, 24, 27, 28], [4, 5, 9, 10, 11, 12, 14, 15, 19, 22, 23, 27, 30]]\n",
    "# P5 = [60, 79, 49, 65, 88, 83, 38, 44, 54, 100, 65, 53, 43, 73, 63, 35, 65, 92, 74, 79, 67, 34, 95]\n",
    "\n",
    "def set_cover(universe, subsets,costs):\n",
    "    cost = 0\n",
    "    elements = set(e for s in subsets for e in s) # checking that everything here is the same as in the universe. Sets must cover it\n",
    "    # print('$elem', elements)\n",
    "    if elements != universe:\n",
    "        return None\n",
    "    covered = set()\n",
    "    cover = []\n",
    "    while covered != elements:\n",
    "        subset = max(subsets, key=lambda s: len(s - covered)/costs[subsets.index(s)])\n",
    "        print(subset, costs[subsets.index(subset)])\n",
    "        print('$subset', subset, '$subsets', subsets)\n",
    "        cover.append(subset)\n",
    "        cost+=costs[subsets.index(subset)]\n",
    "        print('$cost cover covered', cost, cover, covered)\n",
    "        covered |= subset\n",
    " \n",
    "    return cover, cost\n",
    "\n",
    "if __name__ == '__main__':\n",
    "    main(m1,S1,P1)\n",
    "    # main(m2,S2,P2)\n",
    "    # main(m3,S3,P3)\n",
    "    # main(m4,S4,P4)\n",
    "    # main(m5,S5,P5)"
   ]
  },
  {
   "cell_type": "markdown",
   "metadata": {},
   "source": [
    "Text"
   ]
  },
  {
   "cell_type": "code",
   "execution_count": 3,
   "metadata": {},
   "outputs": [],
   "source": [
    "def getSubsets(filename):\n",
    "    data = open(filename,\"r\")\n",
    "\n",
    "    subsets = []\n",
    "    costs = []\n",
    "\n",
    "    for line in data.read().splitlines():\n",
    "        line = line.lower()\n",
    "        subsets.append(set(line.split(' ')))\n",
    "        costs.append(random.randrange(1,300))        \n",
    "    return subsets, costs\n"
   ]
  },
  {
   "cell_type": "code",
   "execution_count": null,
   "metadata": {},
   "outputs": [],
   "source": [
    "import time\n",
    "\n",
    "prompt = input('Type in your prompt: ')\n",
    "\n",
    "def set_cover(universe, subsets,costs):\n",
    "    cost = 0\n",
    "    elements = set(e for s in subsets for e in s) # checking that everything here is the same as in the universe. Sets must cover it\n",
    "\n",
    "    if not universe.issubset(elements):\n",
    "        return None\n",
    "\n",
    "    covered = set()\n",
    "    cover = []\n",
    "\n",
    "    while not universe.issubset(covered):\n",
    "        subset = max(subsets, key=lambda s: len(s - covered)/costs[subsets.index(s)])\n",
    "        # print(len(subset), costs[subsets.index(subset)])\n",
    "        cover.append(subset)\n",
    "        cost+= costs[subsets.index(subset)]\n",
    "        covered |= subset\n",
    "    print(covered)\n",
    "    return cover, cost\n",
    "\n",
    "def test(prompt,x=time.time()):\n",
    "    prompt = prompt.lower()\n",
    "    universe = set(prompt.split(' '))\n",
    "    subsets, costs = getSubsets('dataset.txt') # collection of subsets\n",
    "    \n",
    "    cover = set_cover(universe, subsets, costs)\n",
    "    if cover is None:\n",
    "        return False\n",
    "    print('Final: ',cover[0],'\\n', 'cost = $',cover[1])\n",
    "    print('time: ',time.time()-x)\n",
    "\n",
    "test(prompt)\n"
   ]
  }
 ],
 "metadata": {
  "kernelspec": {
   "display_name": "Python 3.9.7 64-bit",
   "language": "python",
   "name": "python3"
  },
  "language_info": {
   "codemirror_mode": {
    "name": "ipython",
    "version": 3
   },
   "file_extension": ".py",
   "mimetype": "text/x-python",
   "name": "python",
   "nbconvert_exporter": "python",
   "pygments_lexer": "ipython3",
   "version": "3.9.7"
  },
  "orig_nbformat": 4,
  "vscode": {
   "interpreter": {
    "hash": "aee8b7b246df8f9039afb4144a1f6fd8d2ca17a180786b69acc140d282b71a49"
   }
  }
 },
 "nbformat": 4,
 "nbformat_minor": 2
}
