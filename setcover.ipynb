{
 "cells": [
  {
   "cell_type": "code",
   "execution_count": 2,
   "metadata": {},
   "outputs": [],
   "source": [
    "import random\n",
    "from collections import defaultdict\n",
    "import heapq"
   ]
  },
  {
   "cell_type": "code",
   "execution_count": 13,
   "metadata": {},
   "outputs": [],
   "source": [
    "universe = set([1,2,3,4,5,6,7,8,9,10,11,12,13,14,15,16]) # universal set\n",
    "subsets = [set([1,2,4]), set([6,2,3,1]), set([1,2]), set([14,15,16]), set([4,5,6,7]), set([8,9,10]),set([1,2,3,4,8,9]),set([11,12]), set([12,11,13,14])]\n",
    "\n",
    "# print(random.randrange(1,10)) \n",
    "weights = defaultdict(list)\n",
    "\n",
    "for subs in subsets:\n",
    "    randomWeight = random.randrange(1,20) # assigning them random weights in the range 1 - 20\n",
    "    weights[randomWeight].append(subs) # map with weigths and their respective subsets\n",
    "\n",
    "# print(weights)"
   ]
  },
  {
   "cell_type": "code",
   "execution_count": 6,
   "metadata": {},
   "outputs": [],
   "source": [
    "# helper functions\n",
    "\n",
    "def findWeight(subset, weightsMap): # given a subset, returns the weight associated with it\n",
    "    for k, v in weightsMap.items():\n",
    "        for values in v:\n",
    "            if values == subset:\n",
    "                return k\n",
    "\n",
    "def removeSeen(setToRemove, curSet): # used for effective comparison when finding combinations that cover the universal set\n",
    "    for num in list(curSet):\n",
    "        setToRemove.remove(num)\n",
    "    return setToRemove\n",
    "\n",
    "''' \n",
    "def addSeen(toadd, subset): \n",
    "    for num in list(subset):\n",
    "        toadd.add(num)\n",
    "    return toadd\n",
    "'''\n",
    "\n",
    "def seen(set, universal):\n",
    "    count = 0\n",
    "    for num in list(set):\n",
    "        if num in universal:\n",
    "            count += 1\n",
    "    return count\n",
    "    \n",
    "def setcover(universe, subsets, weights):\n",
    "    \n",
    "    n = len(universe)\n",
    "    costs = [] # min heap\n",
    "    heapq.heapify(costs)\n",
    "\n",
    "    for i in range(len(subsets)): # finding combinations for each set\n",
    "\n",
    "        unicopy = universe.copy() # useful for avoiding redundant work\n",
    "        countcovered = len(subsets) # count of how many items we covered so far\n",
    "        unicopy = removeSeen(unicopy, subsets[i]) # quickly removing those items from the unicopy\n",
    "        totalWeight = findWeight(subsets[i], weights) # totalweight will start at how much weight the current subset holds\n",
    "        indexes = [i] # we consider the index of the subset we're in \n",
    "\n",
    "        for j in range(i + 1, len(subsets)): # finding its match with every other combination\n",
    "            cur_count = seen(subsets[j], unicopy) # the count of how many matches we found\n",
    "            if cur_count > 0: # this means we did find at least one match\n",
    "\n",
    "                countcovered += cur_count # we cover those things found\n",
    "                totalWeight += findWeight(subsets[j], weights) # add their respective weights\n",
    "\n",
    "                for k in list(subsets[j]): # removing the covered items from the unicopy since we already seen them\n",
    "                    if k in unicopy:\n",
    "                        unicopy.remove(k)\n",
    "\n",
    "                indexes.append(j) # keeping track of all the indexes that build this collection\n",
    "        \n",
    "        if countcovered >= n and not unicopy: # if we found a collection of subsets that do cover our universe\n",
    "            heapq.heappush(costs, (totalWeight, indexes)) # pushing them to the heap\n",
    "\n",
    "    print('length of heap: ', len(costs))\n",
    "    return heapq.heappop(costs) # we want the one with min cost, so we return the min heap\n",
    "\n"
   ]
  },
  {
   "cell_type": "code",
   "execution_count": 15,
   "metadata": {},
   "outputs": [
    {
     "name": "stdout",
     "output_type": "stream",
     "text": [
      "length of heap:  4\n",
      "min weight found 56\n",
      "sets: \n",
      "{1, 2, 3, 6}\n",
      "{16, 14, 15}\n",
      "{4, 5, 6, 7}\n",
      "{8, 9, 10}\n",
      "{11, 12}\n",
      "{11, 12, 13, 14}\n",
      "{1, 2, 3, 4, 5, 6, 7, 8, 9, 10, 11, 12, 13, 14, 15, 16}\n"
     ]
    }
   ],
   "source": [
    "# findWeight(set([1,2,4]),weights)\n",
    "\n",
    "minWeight, idx = setcover(universe, subsets, weights)\n",
    "print('min weight found', minWeight)\n",
    "print('sets: ')\n",
    "for i in idx:\n",
    "    print(subsets[i])\n",
    "print(universe)\n"
   ]
  }
 ],
 "metadata": {
  "kernelspec": {
   "display_name": "Python 3.9.7 64-bit",
   "language": "python",
   "name": "python3"
  },
  "language_info": {
   "codemirror_mode": {
    "name": "ipython",
    "version": 3
   },
   "file_extension": ".py",
   "mimetype": "text/x-python",
   "name": "python",
   "nbconvert_exporter": "python",
   "pygments_lexer": "ipython3",
   "version": "3.9.7"
  },
  "orig_nbformat": 4,
  "vscode": {
   "interpreter": {
    "hash": "aee8b7b246df8f9039afb4144a1f6fd8d2ca17a180786b69acc140d282b71a49"
   }
  }
 },
 "nbformat": 4,
 "nbformat_minor": 2
}
